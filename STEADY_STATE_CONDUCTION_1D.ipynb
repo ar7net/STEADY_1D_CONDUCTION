{
 "cells": [
  {
   "cell_type": "markdown",
   "metadata": {},
   "source": [
    "**CONDUCCIÓN DE CALOR UNIDIMENSIONA (ESTADO ESTABLE)**\n",
    "\n",
    "INTRODUCCIÓN\n",
    "\n",
    "Este cuaderno de Jupyter pretende desarrollar el procedimiento para resolver el problema de conducción de calor unidimensional en estado estable, SIN GENERACIÓN DE CALOR, mediante el método numérico de diferencias finitas, usando Python. La formulación usada, corresponde a la propuesta por Yunus A. Cengel (Transferencia de calor y masa). La ecuación diferencial que rige el fenómeno de conducción de calor es conocida como Ley de Fourier:\n",
    "\n",
    "\\begin{equation}\n",
    "\\frac{\\partial}{\\partial x}\\left(k \\frac{\\partial T}{\\partial x}\\right)+\\frac{\\dot{e}_{\\mathrm{gen}}}{k}=\\rho c \\frac{\\partial T}{\\partial t}\n",
    "\\end{equation}\n",
    "\n",
    "Para el caso de regimen estacionario sin generación de calor, la Ecuación (1) se puede expresar como:\n",
    "\n",
    "\\begin{equation*}\n",
    "\\frac{\\partial}{\\partial x}\\left(k \\frac{\\partial T}{\\partial x}\\right)=0\n",
    "\\end{equation*}\n",
    "\n",
    "Las aproximaciones para la primera dereivada de los puntos medios (m-1/2) y (m+1/2) de las secciones que están a uno y otro lado del nodo $m$ se puede expresar como:\n",
    "\n",
    "\\begin{equation*}\n",
    "\\left.\\frac{d T}{d x}\\right|_{m-\\frac{1}{2}} \\cong \\frac{T_m-T_{m-1}}{\\Delta x} \\quad \\text { y }\\left.\\quad \\frac{d T}{d x}\\right|_{m+\\frac{1}{2}} \\cong \\frac{T_{m+1}-T_m}{\\Delta x}\n",
    "\\end{equation*}\n",
    "\n",
    "La aproximación para la segunda derivada en el nodo $m$ se puede expresar como:\n",
    "\n",
    "\\begin{equation*}\n",
    "\\left.\\frac{d^2 T}{d x^2}\\right|_m = \\frac{T_{m-1}-2 T_m+T_{m+1}}{\\Delta x^2}\n",
    "\\end{equation*}\n",
    "\n",
    "Por lo tanto, la Ecuación (1) puede ser expresada en términos de sus aproximaciones de diferencias finitas como:\n",
    "\n",
    "\\begin{equation*}\n",
    "\\frac{T_{m-1}-2 T_m+T_{m+1}}{\\Delta x^2}=0, \\quad m=1,2,3, \\ldots, M-1\n",
    "\\end{equation*}\n",
    "\n",
    "Al hacer un sencillo tratamiento algebráico y despejar el término $T_m$ se obtiene:\n",
    "\n",
    "\\begin{equation*}\n",
    "T_m=\\dfrac{T_{m-1}+T_{m+1}}{2}\n",
    "\\end{equation*}"
   ]
  },
  {
   "cell_type": "markdown",
   "metadata": {},
   "source": [
    "**CASO 1: PARED PLANA EN ESTADO ESTACIONARIO SIN GENERACIÓN DE CALOR, TEMPERATURAS FIJAS EN LOS EXTREMOS**\n",
    "\n",
    "Considere una pared plana en estado estacionario con propiedades termofísicas y condiciones de frontera conocidas, en este caso las temperaturas derecha e izquierda son conocidas. Se desea aproximar las temperaturas de M nodos interiores usando el método de diferencias finitas. No se considera generación de calor. A continuación se presenta la rutina de Python para resolver el problema."
   ]
  },
  {
   "cell_type": "markdown",
   "metadata": {},
   "source": [
    "INICIALIZAR\n",
    "\n",
    "Se importan las librerías necesarias. En este caso la librería *numpy* para los cálculos relacionados con vectores y matrices, y la librería *matplotlib* para los gráficos."
   ]
  },
  {
   "cell_type": "code",
   "execution_count": 15,
   "metadata": {},
   "outputs": [],
   "source": [
    "import numpy as np  \n",
    "import matplotlib.pyplot as plt"
   ]
  },
  {
   "cell_type": "markdown",
   "metadata": {},
   "source": [
    "MALLA UNIDIMENSIONAL\n",
    "\n",
    "Es necesario establecer la malla sobre la cual se calcularán las temperaturas. Esto implica conocer la longitud de la pared (dato de entrada) y el número de nodos (dato definido por el usuario)."
   ]
  },
  {
   "cell_type": "code",
   "execution_count": 16,
   "metadata": {},
   "outputs": [],
   "source": [
    "L=0.5\n",
    "n=50\n",
    "dx=L/(n-1)\n",
    "x=np.linspace(0,L,n)"
   ]
  },
  {
   "cell_type": "markdown",
   "metadata": {},
   "source": [
    "CONDICIONES DE FRONTERA\n",
    "\n",
    "Seguidamente, se establecen las condiciones de frontera. Para esto, hay que crear un vector de temperatura de una longitud de $n$ nodos, sobre el cual se impondrán las condiciones de frontera, en los extremos, y se resolverán las temperaturas de los nodos interiores por MDF."
   ]
  },
  {
   "cell_type": "code",
   "execution_count": 17,
   "metadata": {},
   "outputs": [],
   "source": [
    "T=np.array(np.zeros(n))     # Vector de temperaturas\n",
    "TL=10        # Temperatura del extremo izquierdo (°C)\n",
    "TR=100      # Temperatura del extremo derecho (°C)\n",
    "T[0]=TL     # Se fija la condición de frontera \n",
    "T[-1]=TR    # Se fija la condición de frontera"
   ]
  },
  {
   "cell_type": "markdown",
   "metadata": {},
   "source": [
    "CRITERIO DE CONVERGENCIA\n",
    "\n",
    "El MDF (Método de diferencias finitas) debe resolverse usando métodos de solución directa o de solución iterativa. En este caso se usarán métodos iterativos (Método de Jacobi), razón por la cuál se debe establecer un error admisible al cuál llamaremos *tolerancia*, que representa el parámetro para el cual suponemos que la solución es lo suficientemente \"exacta\"."
   ]
  },
  {
   "cell_type": "code",
   "execution_count": 18,
   "metadata": {},
   "outputs": [],
   "source": [
    "tol=0.0001      # Tolerancia admisible\n",
    "error=1         # Inicializar variable \"error\"\n",
    "iter=0          # Inicializar contador de iteraciones"
   ]
  },
  {
   "cell_type": "markdown",
   "metadata": {},
   "source": [
    "SOLVER\n",
    "\n",
    "El corazón del MDF es el solver o método de solución. Como ya fue mencionado, en este caso se usarán métodos iterativos para resolver los nodos interiores. La iteración de Jacobi, desde el punto de vista de python (o de otros lenguajes de programación) consiste de un bucle \"for\" anidado en un bucle \"while\". "
   ]
  },
  {
   "cell_type": "code",
   "execution_count": 19,
   "metadata": {},
   "outputs": [],
   "source": [
    "while error>tol:  # Mientras el error > tol, haga lo siguiente:\n",
    "    Told=np.copy(T)     # Haga un vector Told que sea copia de Told\n",
    "    for i in range(1, n-1):    # Para todos los nodos interiores haga esto:\n",
    "        T[i]=(Told[i-1]+Told[i+1])*0.5     # Aproximación de diferencias finitas\n",
    "    error=np.max(np.abs(np.array(Told-T)))\n",
    "    iter=iter+1"
   ]
  },
  {
   "cell_type": "markdown",
   "metadata": {},
   "source": [
    "RESULTADOS\n",
    "\n",
    "El ordenador, por medio de las instrucciones de Python, ya ha resuelto las temperaturas interiores, y están almacenadas en la variable T, de modo que solo resta vizualizar."
   ]
  },
  {
   "cell_type": "code",
   "execution_count": 20,
   "metadata": {},
   "outputs": [
    {
     "name": "stdout",
     "output_type": "stream",
     "text": [
      "[ 10.    10.16  10.33  10.49  10.65  10.81  10.98  11.14  11.3   11.47\n",
      "  11.63  11.79  11.95  12.12  12.28  12.44  12.61  12.77  12.93  13.1\n",
      "  13.26  13.42  13.58  13.75  13.91  14.07  14.24  14.4   14.56  14.73\n",
      "  14.89  15.05  15.22  15.38  15.54  15.71  15.87  16.03  16.2   16.36\n",
      "  16.52  16.69  16.85  17.01  17.18  17.34  17.5   17.67  17.83  18.\n",
      "  18.16  18.32  18.49  18.65  18.81  18.98  19.14  19.31  19.47  19.63\n",
      "  19.8   19.96  20.13  20.29  20.45  20.62  20.78  20.95  21.11  21.28\n",
      "  21.44  21.61  21.77  21.94  22.1   22.26  22.43  22.59  22.76  22.92\n",
      "  23.09  23.25  23.42  23.58  23.75  23.92  24.08  24.25  24.41  24.58\n",
      "  24.74  24.91  25.07  25.24  25.41  25.57  25.74  25.9   26.07  26.24\n",
      "  26.4   26.57  26.73  26.9   27.07  27.23  27.4   27.57  27.73  27.9\n",
      "  28.07  28.23  28.4   28.57  28.74  28.9   29.07  29.24  29.41  29.57\n",
      "  29.74  29.91  30.08  30.24  30.41  30.58  30.75  30.92  31.08  31.25\n",
      "  31.42  31.59  31.76  31.93  32.1   32.26  32.43  32.6   32.77  32.94\n",
      "  33.11  33.28  33.45  33.62  33.79  33.96  34.13  34.3   34.47  34.64\n",
      "  34.81  34.98  35.15  35.32  35.49  35.66  35.83  36.    36.17  36.34\n",
      "  36.51  36.68  36.85  37.03  37.2   37.37  37.54  37.71  37.88  38.05\n",
      "  38.23  38.4   38.57  38.74  38.92  39.09  39.26  39.43  39.61  39.78\n",
      "  39.95  40.12  40.3   40.47  40.64  40.82  40.99  41.16  41.34  41.51\n",
      "  41.69  41.86  42.03  42.21  42.38  42.56  42.73  42.91  43.08  43.26\n",
      "  43.43  43.61  43.78  43.96  44.13  44.31  44.48  44.66  44.83  45.01\n",
      "  45.19  45.36  45.54  45.71  45.89  46.07  46.24  46.42  46.6   46.77\n",
      "  46.95  47.13  47.31  47.48  47.66  47.84  48.02  48.19  48.37  48.55\n",
      "  48.73  48.91  49.09  49.26  49.44  49.62  49.8   49.98  50.16  50.34\n",
      "  50.52  50.7   50.88  51.05  51.23  51.41  51.59  51.77  51.95  52.13\n",
      "  52.32  52.5   52.68  52.86  53.04  53.22  53.4   53.58  53.76  53.94\n",
      "  54.12  54.31  54.49  54.67  54.85  55.03  55.22  55.4   55.58  55.76\n",
      "  55.95  56.13  56.31  56.49  56.68  56.86  57.04  57.23  57.41  57.59\n",
      "  57.78  57.96  58.14  58.33  58.51  58.7   58.88  59.07  59.25  59.43\n",
      "  59.62  59.8   59.99  60.17  60.36  60.54  60.73  60.92  61.1   61.29\n",
      "  61.47  61.66  61.84  62.03  62.22  62.4   62.59  62.78  62.96  63.15\n",
      "  63.34  63.52  63.71  63.9   64.08  64.27  64.46  64.65  64.83  65.02\n",
      "  65.21  65.4   65.59  65.77  65.96  66.15  66.34  66.53  66.72  66.9\n",
      "  67.09  67.28  67.47  67.66  67.85  68.04  68.23  68.42  68.61  68.8\n",
      "  68.99  69.18  69.37  69.56  69.75  69.94  70.13  70.32  70.51  70.7\n",
      "  70.89  71.08  71.27  71.46  71.65  71.84  72.03  72.23  72.42  72.61\n",
      "  72.8   72.99  73.18  73.37  73.57  73.76  73.95  74.14  74.33  74.53\n",
      "  74.72  74.91  75.1   75.3   75.49  75.68  75.87  76.07  76.26  76.45\n",
      "  76.65  76.84  77.03  77.23  77.42  77.61  77.81  78.    78.19  78.39\n",
      "  78.58  78.78  78.97  79.16  79.36  79.55  79.75  79.94  80.14  80.33\n",
      "  80.52  80.72  80.91  81.11  81.3   81.5   81.69  81.89  82.08  82.28\n",
      "  82.47  82.67  82.86  83.06  83.25  83.45  83.64  83.84  84.04  84.23\n",
      "  84.43  84.62  84.82  85.01  85.21  85.41  85.6   85.8   85.99  86.19\n",
      "  86.39  86.58  86.78  86.98  87.17  87.37  87.57  87.76  87.96  88.15\n",
      "  88.35  88.55  88.74  88.94  89.14  89.34  89.53  89.73  89.93  90.12\n",
      "  90.32  90.52  90.71  90.91  91.11  91.31  91.5   91.7   91.9   92.09\n",
      "  92.29  92.49  92.69  92.88  93.08  93.28  93.48  93.67  93.87  94.07\n",
      "  94.27  94.46  94.66  94.86  95.06  95.25  95.45  95.65  95.85  96.04\n",
      "  96.24  96.44  96.64  96.84  97.03  97.23  97.43  97.63  97.82  98.02\n",
      "  98.22  98.42  98.62  98.81  99.01  99.21  99.41  99.6   99.8  100.  ]\n"
     ]
    }
   ],
   "source": [
    "np.set_printoptions(precision=2)\n",
    "print(T)\n"
   ]
  },
  {
   "cell_type": "markdown",
   "metadata": {},
   "source": [
    "GRAFICO\n",
    "\n",
    "El último paso es crear el gráfico. Para esto, se usa la librería matplotlib."
   ]
  },
  {
   "cell_type": "code",
   "execution_count": 21,
   "metadata": {},
   "outputs": [
    {
     "data": {
      "image/png": "[encoded data removed]",
      "text/plain": [
       "<Figure size 432x288 with 1 Axes>"
      ]
     },
     "metadata": {},
     "output_type": "display_data"
    }
   ],
   "source": [
    "plt.style.use(\"dark_background\")        # Para mostrar fondo oscuro\n",
    "plt.plot(x,T)       # Grafique las temperaturas en la malla undimensional\n",
    "plt.title(\"Variación de la temperatura\", fontsize =16)\n",
    "plt.xlabel(\"Longitud de la pared (m)\", fontsize =16)\n",
    "plt.ylabel(\"Temperatura de la pared (°C)\", fontsize = 16)\n",
    "plt.grid(linestyle=\":\", linewidth =0.5)\n",
    "plt.show()\n"
   ]
  }
 ],
 "metadata": {
  "kernelspec": {
   "display_name": "Python 3.7.4 ('base')",
   "language": "python",
   "name": "python3"
  },
  "language_info": {
   "codemirror_mode": {
    "name": "ipython",
    "version": 3
   },
   "file_extension": ".py",
   "mimetype": "text/x-python",
   "name": "python",
   "nbconvert_exporter": "python",
   "pygments_lexer": "ipython3",
   "version": "3.7.4"
  },
  "orig_nbformat": 4,
  "vscode": {
   "interpreter": {
    "hash": "3d82a38089e50421a8eb0a1b5b0c8f4058d78f7bd7e9cfdf2f73b3ed54a71c68"
   }
  }
 },
 "nbformat": 4,
 "nbformat_minor": 2
}
