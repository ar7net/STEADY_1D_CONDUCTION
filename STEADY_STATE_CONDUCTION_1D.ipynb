{
 "cells": [
  {
   "cell_type": "markdown",
   "metadata": {},
   "source": [
    "**CONDUCCIÓN DE CALOR UNIDIMENSIONA (ESTADO ESTABLE)**\n",
    "\n",
    "INTRODUCCIÓN\n",
    "\n",
    "Este cuaderno de Jupyter pretende desarrollar el procedimiento para resolver el problema de conducción de calor unidimensional en estado estable, SIN GENERACIÓN DE CALOR, mediante el método numérico de diferencias finitas, usando Python. La formulación usada, corresponde a la propuesta por Yunus A. Cengel (Transferencia de calor y masa). La ecuación diferencial que rige el fenómeno de conducción de calor es conocida como Ley de Fourier:\n",
    "\n",
    "\\begin{equation}\n",
    "\\frac{\\partial}{\\partial x}\\left(k \\frac{\\partial T}{\\partial x}\\right)+\\frac{\\dot{e}_{\\mathrm{gen}}}{k}=\\rho c \\frac{\\partial T}{\\partial t}\n",
    "\\end{equation}\n",
    "\n",
    "Para el caso de regimen estacionario sin generación de calor, la Ecuación (1) se puede expresar como:\n",
    "\n",
    "\\begin{equation*}\n",
    "\\frac{\\partial}{\\partial x}\\left(k \\frac{\\partial T}{\\partial x}\\right)=0\n",
    "\\end{equation*}\n",
    "\n",
    "Las aproximaciones para la primera dereivada de los puntos medios (m-1/2) y (m+1/2) de las secciones que están a uno y otro lado del nodo $m$ se puede expresar como:\n",
    "\n",
    "\\begin{equation*}\n",
    "\\left.\\frac{d T}{d x}\\right|_{m-\\frac{1}{2}} \\cong \\frac{T_m-T_{m-1}}{\\Delta x} \\quad \\text { y }\\left.\\quad \\frac{d T}{d x}\\right|_{m+\\frac{1}{2}} \\cong \\frac{T_{m+1}-T_m}{\\Delta x}\n",
    "\\end{equation*}\n",
    "\n",
    "La aproximación para la segunda derivada en el nodo $m$ se puede expresar como:\n",
    "\n",
    "\\begin{equation*}\n",
    "\\left.\\frac{d^2 T}{d x^2}\\right|_m = \\frac{T_{m-1}-2 T_m+T_{m+1}}{\\Delta x^2}\n",
    "\\end{equation*}\n",
    "\n",
    "Por lo tanto, la Ecuación (1) puede ser expresada en términos de sus aproximaciones de diferencias finitas como:\n",
    "\n",
    "\\begin{equation*}\n",
    "\\frac{T_{m-1}-2 T_m+T_{m+1}}{\\Delta x^2}=0, \\quad m=1,2,3, \\ldots, M-1\n",
    "\\end{equation*}\n",
    "\n",
    "Al hacer un sencillo tratamiento algebráico y despejar el término $T_m$ se obtiene:\n",
    "\n",
    "\\begin{equation*}\n",
    "T_m=\\dfrac{T_{m-1}+T_{m+1}}{2}\n",
    "\\end{equation*}"
   ]
  },
  {
   "cell_type": "markdown",
   "metadata": {},
   "source": [
    "**CASO 1: PARED PLANA EN ESTADO ESTACIONARIO SIN GENERACIÓN DE CALOR**\n",
    "\n",
    "Considere una pared plana en estado estacionario con propiedades termofísicas y condiciones de frontera conocidas, en este caso las temperaturas derecha e izquierda son conocidas. Se desea aproximar las temperaturas de M nodos interiores usando el método de diferencias finitas. No se considera generación de calor. A continuación se presenta la rutina de Python para resolver el problema."
   ]
  },
  {
   "cell_type": "markdown",
   "metadata": {},
   "source": [
    "INICIALIZAR\n",
    "\n",
    "Se importan las librerías necesarias. En este caso la librería *numpy* para los cálculos relacionados con vectores y matrices, y la librería *matplotlib* para los gráficos."
   ]
  },
  {
   "cell_type": "code",
   "execution_count": 3,
   "metadata": {},
   "outputs": [],
   "source": [
    "import numpy as np  \n",
    "import matplotlib.pyplot as plt"
   ]
  },
  {
   "cell_type": "markdown",
   "metadata": {},
   "source": [
    "MALLA UNIDIMENSIONAL\n",
    "\n",
    "Es necesario establecer la malla sobre la cual se calcularán las temperaturas. Esto implica conocer la longitud de la pared (dato de entrada) y el número de nodos (dato definido por el usuario)."
   ]
  },
  {
   "cell_type": "code",
   "execution_count": 4,
   "metadata": {},
   "outputs": [],
   "source": [
    "L=0.5\n",
    "n=50\n",
    "dx=L/(n-1)\n",
    "x=np.linspace(0,L,n)"
   ]
  },
  {
   "cell_type": "markdown",
   "metadata": {},
   "source": [
    "CONDICIONES DE FRONTERA\n",
    "\n",
    "Seguidamente, se establecen las condiciones de frontera. Para esto, hay que crear un vector de temperatura de una longitud de $n$ nodos, sobre el cual se impondrán las condiciones de frontera, en los extremos, y se resolverán las temperaturas de los nodos interiores por MDF."
   ]
  },
  {
   "cell_type": "code",
   "execution_count": 7,
   "metadata": {},
   "outputs": [],
   "source": [
    "T=np.array(np.zeros(n))     # Vector de temperaturas\n",
    "TL=0        # Temperatura del extremo izquierdo (°C)\n",
    "TR=100      # Temperatura del extremo derecho (°C)\n",
    "T[0]=TL     # Se fija la condición de frontera \n",
    "T[-1]=TR    # Se fija la condición de frontera"
   ]
  },
  {
   "cell_type": "markdown",
   "metadata": {},
   "source": [
    "CRITERIO DE CONVERGENCIA\n",
    "\n",
    "El MDF (Método de diferencias finitas) debe resolverse usando métodos de solución directa o de solución iterativa. En este caso se usarán métodos iterativos (Método de Jacobi), razón por la cuál se debe establecer un error admisible al cuál llamaremos *tolerancia*, que representa el parámetro para el cual suponemos que la solución es lo suficientemente \"exacta\"."
   ]
  },
  {
   "cell_type": "code",
   "execution_count": 8,
   "metadata": {},
   "outputs": [],
   "source": [
    "tol=0.0001      # Tolerancia admisible\n",
    "error=1         # Inicializar variable \"error\"\n",
    "iter=0          # Inicializar contador de iteraciones"
   ]
  },
  {
   "cell_type": "markdown",
   "metadata": {},
   "source": [
    "SOLVER\n",
    "\n",
    "El corazón del MDF es el solver o método de solución. Como ya fue mencionado, en este caso se usarán métodos iterativos para resolver los nodos interiores. La iteración de Jacobi, desde el punto de vista de python (o de otros lenguajes de programación) consiste de un bucle \"for\" anidado en un bucle \"while\". "
   ]
  },
  {
   "cell_type": "code",
   "execution_count": 9,
   "metadata": {},
   "outputs": [],
   "source": [
    "while error>tol:  # Mientras el error > tol, haga lo siguiente:\n",
    "    Told=np.copy(T)     # Haga un vector Told que sea copia de Told\n",
    "    for i in range(1, n-1):    # Para todos los nodos interiores haga esto:\n",
    "        T[i]=(Told[i-1]+Told[i+1])*0.5     # Aproximación de diferencias finitas\n",
    "    error=np.max(np.abs(np.array(Told-T)))\n",
    "    iter=iter+1"
   ]
  },
  {
   "cell_type": "markdown",
   "metadata": {},
   "source": [
    "RESULTADOS\n",
    "\n",
    "El ordenador, por medio de las instrucciones de Python, ya ha resuelto las temperaturas interiores, y están almacenadas en la variable T, de modo que solo resta vizualizar."
   ]
  },
  {
   "cell_type": "code",
   "execution_count": 10,
   "metadata": {},
   "outputs": [
    {
     "name": "stdout",
     "output_type": "stream",
     "text": [
      "[  0.     2.04   4.08   6.12   8.16  10.2   12.24  14.28  16.31  18.35\n",
      "  20.39  22.43  24.47  26.51  28.55  30.59  32.63  34.67  36.71  38.75\n",
      "  40.79  42.83  44.87  46.91  48.96  51.    53.04  55.08  57.12  59.16\n",
      "  61.2   63.24  65.28  67.33  69.37  71.41  73.45  75.49  77.54  79.58\n",
      "  81.62  83.66  85.7   87.75  89.79  91.83  93.87  95.92  97.96 100.  ]\n"
     ]
    }
   ],
   "source": [
    "np.set_printoptions(precision=2)\n",
    "print(T)\n"
   ]
  },
  {
   "cell_type": "markdown",
   "metadata": {},
   "source": [
    "GRAFICO\n",
    "\n",
    "El último paso es crear el gráfico. Para esto, se usa la librería matplotlib."
   ]
  },
  {
   "cell_type": "code",
   "execution_count": 13,
   "metadata": {},
   "outputs": [
    {
     "data": {
      "image/png": "[encoded data removed]",
      "text/plain": [
       "<Figure size 432x288 with 1 Axes>"
      ]
     },
     "metadata": {},
     "output_type": "display_data"
    }
   ],
   "source": [
    "plt.style.use(\"dark_background\")        # Para mostrar fondo oscuro\n",
    "plt.plot(x,T)       # Grafique las temperaturas en la malla undimensional\n",
    "plt.title(\"Variación de la temperatura\", fontsize =16)\n",
    "plt.xlabel(\"Longitud de la pared (m)\", fontsize =16)\n",
    "plt.ylabel(\"Temperatura de la pared (°C)\", fontsize = 16)\n",
    "plt.grid(linestyle=\":\", linewidth =0.5)\n",
    "plt.show()\n"
   ]
  }
 ],
 "metadata": {
  "kernelspec": {
   "display_name": "Python 3.7.4 ('base')",
   "language": "python",
   "name": "python3"
  },
  "language_info": {
   "codemirror_mode": {
    "name": "ipython",
    "version": 3
   },
   "file_extension": ".py",
   "mimetype": "text/x-python",
   "name": "python",
   "nbconvert_exporter": "python",
   "pygments_lexer": "ipython3",
   "version": "3.7.4"
  },
  "orig_nbformat": 4,
  "vscode": {
   "interpreter": {
    "hash": "3d82a38089e50421a8eb0a1b5b0c8f4058d78f7bd7e9cfdf2f73b3ed54a71c68"
   }
  }
 },
 "nbformat": 4,
 "nbformat_minor": 2
}
