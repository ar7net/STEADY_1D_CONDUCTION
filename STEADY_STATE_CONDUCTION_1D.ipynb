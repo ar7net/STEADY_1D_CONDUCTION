{
 "cells": [
  {
   "cell_type": "code",
   "execution_count": 2,
   "metadata": {},
   "outputs": [],
   "source": [
    "import numpy as np\n",
    "import matplotlib.pyplot as plt\n",
    "plt.style.use('dark_background')"
   ]
  },
  {
   "cell_type": "markdown",
   "metadata": {},
   "source": [
    "Malla unidimensional"
   ]
  },
  {
   "cell_type": "code",
   "execution_count": 3,
   "metadata": {},
   "outputs": [],
   "source": [
    "L=0.04                      # Longitud de la pared [m]              \n",
    "n=100                       # Número de nodos\n",
    "dx=L/(n-1)                  # Delta X [m]\n",
    "x=np.linspace(0,L,n)        # Malla unidimensional para la pared"
   ]
  },
  {
   "cell_type": "markdown",
   "metadata": {},
   "source": [
    "Condiciones ambientales y propiedades termofísicas"
   ]
  },
  {
   "cell_type": "code",
   "execution_count": 4,
   "metadata": {},
   "outputs": [],
   "source": [
    "T_amb=30                    # Temperatura ambiente [°C]\n",
    "h=45                        # Coeficiente de convección [W/m^2K]\n",
    "q=5000000                   # Generación de calor [W/m^3]\n",
    "k=28                        # Conductividad térmica [W/mK]"
   ]
  },
  {
   "cell_type": "markdown",
   "metadata": {},
   "source": [
    "Condiciones de frontera"
   ]
  },
  {
   "cell_type": "code",
   "execution_count": 5,
   "metadata": {},
   "outputs": [],
   "source": [
    "T=np.array(np.zeros(n))     # Crear el array de temperatura\n",
    "TL=0                        # Condición de frontera izquierda\n",
    "T[0]=TL                     # Fijar la condición de frontera izquierda"
   ]
  },
  {
   "cell_type": "markdown",
   "metadata": {},
   "source": [
    "Criterio de convergencia"
   ]
  },
  {
   "cell_type": "code",
   "execution_count": 6,
   "metadata": {},
   "outputs": [],
   "source": [
    "err=1.                      # Inicializar error\n",
    "tol=0.00001                 # Definir la tolerancia\n",
    "iter=0.0                    # Inicializar contador"
   ]
  },
  {
   "cell_type": "markdown",
   "metadata": {},
   "source": [
    "SOLVER - Iteración de Diferencias Finitas, método de Jacobi"
   ]
  },
  {
   "cell_type": "code",
   "execution_count": 7,
   "metadata": {},
   "outputs": [],
   "source": [
    "while (err>tol):\n",
    "    Told=np.array(T)\n",
    "    T[n-1]=(h*T_amb+(k*Told[n-2]/dx)+(q*dx/2))/(h+(k/dx))   # Condición de frontera de convección pared derecha.\n",
    "  \n",
    "    for i in range(1, n-1):\n",
    "        T[i]=0.5*(Told[i-1]+Told[i+1]+((q*dx**2)/k))    # Nodos interiores\n",
    "  \n",
    "    err=np.amax(np.abs(np.array(Told-T)))\n",
    "    iter=iter+1"
   ]
  },
  {
   "cell_type": "markdown",
   "metadata": {},
   "source": [
    "Resultados"
   ]
  },
  {
   "cell_type": "code",
   "execution_count": 8,
   "metadata": {},
   "outputs": [
    {
     "name": "stdout",
     "output_type": "stream",
     "text": [
      "[  0.       2.8014   5.5736   8.3166  11.0305  13.7153  16.3709  18.9973\n",
      "  21.5946  24.1628  26.7018  29.2116  31.6923  34.1439  36.5663  38.9596\n",
      "  41.3237  43.6587  45.9645  48.2412  50.4887  52.7071  54.8963  57.0564\n",
      "  59.1874  61.2892  63.3619  65.4054  67.4198  69.405   71.3611  73.2881\n",
      "  75.1859  77.0545  78.8941  80.7045  82.4857  84.2378  85.9608  87.6546\n",
      "  89.3193  90.9548  92.5612  94.1385  95.6866  97.2056  98.6955 100.1562\n",
      " 101.5878 102.9902 104.3635 105.7077 107.0227 108.3086 109.5653 110.793\n",
      " 111.9914 113.1608 114.301  115.4121 116.494  117.5468 118.5705 119.565\n",
      " 120.5304 121.4667 122.3738 123.2518 124.1007 124.9204 125.711  126.4725\n",
      " 127.2048 127.908  128.582  129.227  129.8428 130.4294 130.987  131.5154\n",
      " 132.0146 132.4848 132.9258 133.3376 133.7204 134.074  134.3984 134.6938\n",
      " 134.96   135.1971 135.405  135.5838 135.7335 135.854  135.9455 136.0077\n",
      " 136.0409 136.0449 136.0198 135.9656]\n"
     ]
    }
   ],
   "source": [
    "np.set_printoptions(precision=4)\n",
    "print(T)"
   ]
  },
  {
   "cell_type": "markdown",
   "metadata": {},
   "source": [
    "Grafico"
   ]
  },
  {
   "cell_type": "code",
   "execution_count": 9,
   "metadata": {},
   "outputs": [
    {
     "data": {
      "image/png": "[encoded data removed]",
      "text/plain": [
       "<Figure size 432x288 with 1 Axes>"
      ]
     },
     "metadata": {
      "needs_background": "dark"
     },
     "output_type": "display_data"
    }
   ],
   "source": [
    "plt.plot(x,T)\n",
    "plt.xlim(0,L)\n",
    "plt.ylim(0,140)\n",
    "plt.grid(linestyle = \":\", linewidth =0.5)\n",
    "plt.show()"
   ]
  }
 ],
 "metadata": {
  "kernelspec": {
   "display_name": "Python 3.7.4 ('base')",
   "language": "python",
   "name": "python3"
  },
  "language_info": {
   "codemirror_mode": {
    "name": "ipython",
    "version": 3
   },
   "file_extension": ".py",
   "mimetype": "text/x-python",
   "name": "python",
   "nbconvert_exporter": "python",
   "pygments_lexer": "ipython3",
   "version": "3.7.4"
  },
  "orig_nbformat": 4,
  "vscode": {
   "interpreter": {
    "hash": "3d82a38089e50421a8eb0a1b5b0c8f4058d78f7bd7e9cfdf2f73b3ed54a71c68"
   }
  }
 },
 "nbformat": 4,
 "nbformat_minor": 2
}
