{
 "cells": [
  {
   "cell_type": "markdown",
   "metadata": {},
   "source": [
    "PASO 1: Inicializar"
   ]
  },
  {
   "cell_type": "code",
   "execution_count": 9,
   "metadata": {},
   "outputs": [],
   "source": [
    "import numpy as np"
   ]
  },
  {
   "cell_type": "markdown",
   "metadata": {},
   "source": [
    " PASO 2:  Construir malla unidimensional"
   ]
  },
  {
   "cell_type": "code",
   "execution_count": 10,
   "metadata": {},
   "outputs": [],
   "source": [
    "L=0.05\n",
    "n=6\n",
    "dx=L/(n-1)\n",
    "x=np.linspace(0,L,n)\n",
    "b=0.01\n",
    "w=1\n",
    "tan_theta=(b/2)/L\n",
    "theta=np.arctan(tan_theta)*180/np.pi\n",
    "cos_theta=np.cos(theta*np.pi/180)"
   ]
  },
  {
   "cell_type": "markdown",
   "metadata": {},
   "source": [
    "PASO 3: Propiedades termofísicas"
   ]
  },
  {
   "cell_type": "code",
   "execution_count": 11,
   "metadata": {},
   "outputs": [],
   "source": [
    "T_amb=25\n",
    "h=15\n",
    "k=180\n",
    "C=(h*2*w*dx)/cos_theta\n",
    "E=(h*2*w*dx/2)/cos_theta\n",
    "D=(k*2*w*dx/2)*tan_theta"
   ]
  },
  {
   "cell_type": "markdown",
   "metadata": {},
   "source": [
    "PASO 4: Condiciones de frontera"
   ]
  },
  {
   "cell_type": "code",
   "execution_count": 12,
   "metadata": {},
   "outputs": [],
   "source": [
    "T=np.array(np.zeros(n))\n",
    "TL=200\n",
    "T[0]=TL"
   ]
  },
  {
   "cell_type": "markdown",
   "metadata": {},
   "source": [
    "PASO 5: Criterio de convergencia"
   ]
  },
  {
   "cell_type": "code",
   "execution_count": 13,
   "metadata": {},
   "outputs": [],
   "source": [
    "err=1.\n",
    "tol=0.0001\n",
    "iter=0"
   ]
  },
  {
   "cell_type": "markdown",
   "metadata": {},
   "source": [
    "PASO 6: Diferencias finitas, iteración de Jacobi"
   ]
  },
  {
   "cell_type": "code",
   "execution_count": 14,
   "metadata": {},
   "outputs": [],
   "source": [
    "while (err>tol):\n",
    "    Told=np.array(T)\n",
    "    T[-1]=((D/dx)*T[n-2]+E*T_amb)/((D/dx)+E)\n",
    "    for i in range(1, n-1):\n",
    "        A=2*k*w*(L-(i-0.5)*dx)*tan_theta\n",
    "        B=2*k*w*(L-(i+0.5)*dx)*tan_theta\n",
    "        T[i]=(((A/dx)*Told[i-1]+(B/dx)*Told[i+1]+C*T_amb)\n",
    "              /((A/dx)+(B/dx)+C))\n",
    "    err=np.amax(np.abs(np.array(Told-T)))\n",
    "    iter=iter+1"
   ]
  },
  {
   "cell_type": "markdown",
   "metadata": {},
   "source": [
    "PASO 7: Resultados"
   ]
  },
  {
   "cell_type": "code",
   "execution_count": 15,
   "metadata": {},
   "outputs": [
    {
     "name": "stdout",
     "output_type": "stream",
     "text": [
      "[200.  198.6 197.1 195.7 194.3 192.9]\n"
     ]
    }
   ],
   "source": [
    "np.set_printoptions(precision=1)\n",
    "print(T)"
   ]
  }
 ],
 "metadata": {
  "kernelspec": {
   "display_name": "Python 3.7.4 ('base')",
   "language": "python",
   "name": "python3"
  },
  "language_info": {
   "codemirror_mode": {
    "name": "ipython",
    "version": 3
   },
   "file_extension": ".py",
   "mimetype": "text/x-python",
   "name": "python",
   "nbconvert_exporter": "python",
   "pygments_lexer": "ipython3",
   "version": "3.7.4"
  },
  "orig_nbformat": 4,
  "vscode": {
   "interpreter": {
    "hash": "3d82a38089e50421a8eb0a1b5b0c8f4058d78f7bd7e9cfdf2f73b3ed54a71c68"
   }
  }
 },
 "nbformat": 4,
 "nbformat_minor": 2
}
