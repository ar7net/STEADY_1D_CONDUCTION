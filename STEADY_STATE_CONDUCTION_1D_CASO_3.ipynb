{
 "cells": [
  {
   "cell_type": "markdown",
   "metadata": {},
   "source": [
    "**CASO 3: PARED PLANA EN ESTADO ESTACIONARIO CON GENERACIÓN DE CALOR, TEMPERATURAS FIJAS EN LOS EXTREMOS**\n",
    "\n",
    "\n",
    "Considere una pared plana en estado estacionario con propiedades termofísicas y condiciones de frontera conocidas, en este caso se conoce la temperatura en el extremo izquierdo y el derecho, se considera generación de calor constante por unidad de volumen. Se desea aproximar las temperaturas de M nodos interiores usando el método de diferencias finitas. A continuación se presenta la rutina de Python para resolver el problema. Dado que las temperaturas en los nodos fronteras son fijas, sólo se hace en ánalisis para los nodos interiores. "
   ]
  }
 ],
 "metadata": {
  "kernelspec": {
   "display_name": "Python 3.7.4 ('base')",
   "language": "python",
   "name": "python3"
  },
  "language_info": {
   "name": "python",
   "version": "3.7.4"
  },
  "orig_nbformat": 4,
  "vscode": {
   "interpreter": {
    "hash": "3d82a38089e50421a8eb0a1b5b0c8f4058d78f7bd7e9cfdf2f73b3ed54a71c68"
   }
  }
 },
 "nbformat": 4,
 "nbformat_minor": 2
}
