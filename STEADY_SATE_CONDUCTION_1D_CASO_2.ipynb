{
 "cells": [
  {
   "cell_type": "markdown",
   "metadata": {},
   "source": [
    "**CASO 2: PARED PLANA EN ESTADO ESTACIONARIO SIN GENERACIÓN DE CALOR, TEMPERATURA FIJA EN UN EXTREMO Y CONVECCIÓN EN OTRO EXTREMO**\n",
    "\n",
    "\n",
    "Considere una pared plana en estado estacionario con propiedades termofísicas y condiciones de frontera conocidas, en este caso se conoce la temperatura en el extremo izquierdo, mientras que el extremo derecho está sujeto a convección. Se desea aproximar las temperaturas de M nodos interiores usando el método de diferencias finitas. No se considera generación de calor. A continuación se presenta la rutina de Python para resolver el problema."
   ]
  },
  {
   "cell_type": "markdown",
   "metadata": {},
   "source": [
    "INICIALIZAR\n",
    "\n",
    "Se importan las librerías necesarias. En este caso la librería *numpy* para los cálculos relacionados con vectores y matrices, y la librería *matplotlib* para los gráficos."
   ]
  },
  {
   "cell_type": "code",
   "execution_count": 12,
   "metadata": {},
   "outputs": [],
   "source": [
    "import numpy as np\n",
    "import matplotlib.pyplot as plt "
   ]
  },
  {
   "cell_type": "markdown",
   "metadata": {},
   "source": [
    "MALLA UNIDIMENSIONAL\n",
    "\n",
    "Es necesario establecer la malla sobre la cual se calcularán las temperaturas. Esto implica conocer la longitud de la pared (dato de entrada) y el número de nodos (dato definido por el usuario)."
   ]
  },
  {
   "cell_type": "code",
   "execution_count": 13,
   "metadata": {},
   "outputs": [],
   "source": [
    "L=5\n",
    "n=100\n",
    "dx=L/(n-1)\n",
    "x=np.linspace(0,L,n)"
   ]
  },
  {
   "cell_type": "markdown",
   "metadata": {},
   "source": [
    "CONDICIONES DE FRONTERA\n",
    "\n",
    "Seguidamente, se establecen las condiciones de frontera. Para esto, hay que crear un vector de temperatura de una longitud de $n$ nodos, sobre el cual se impondrán las condiciones de frontera, en los extremos, y se resolverán las temperaturas de los nodos interiores por MDF."
   ]
  },
  {
   "cell_type": "code",
   "execution_count": 14,
   "metadata": {},
   "outputs": [],
   "source": [
    "T=np.array(np.zeros(n))\n",
    "TL=0\n",
    "T[0]=TL\n",
    "h=28\n",
    "k=45\n",
    "T_amb=30"
   ]
  },
  {
   "cell_type": "markdown",
   "metadata": {},
   "source": [
    "CRITERIO DE CONVERGENCIA\n",
    "\n",
    "El MDF (Método de diferencias finitas) debe resolverse usando métodos de solución directa o de solución iterativa. En este caso se usarán métodos iterativos (Método de Jacobi), razón por la cuál se debe establecer un error admisible al cuál llamaremos *tolerancia*, que representa el parámetro para el cual suponemos que la solución es lo suficientemente \"exacta\"."
   ]
  },
  {
   "cell_type": "code",
   "execution_count": 15,
   "metadata": {},
   "outputs": [],
   "source": [
    "tol=0.0001\n",
    "error=1\n",
    "iter=0"
   ]
  },
  {
   "cell_type": "markdown",
   "metadata": {},
   "source": [
    "Cuando se especifíca una condición de frontera como \"convección en un extremo\", la ecuación en diferencias finitas para el nodo en esa forntera se obtiene al escribir el balance de energía sobre el elemento de volumen en la frontera, el cual puede expresarse según la siguiente ecuación:\n",
    "\n",
    "\\begin{equation*}\n",
    "\\sum_{\\text {Todos los lados }} \\dot{Q}+\\dot{E}_{\\mathrm{gen}, \\text { elemento }}=0\n",
    "\\end{equation*}\n",
    "\n",
    "Por lo tanto, para el nodo de la frontera derecha, el balance de energía puede expresarse como: *el calor de convección* + *el calor proveniente del noto que está a la izquierda (nodo interior m-1)* debe ser igual a cero, es decir:\n",
    "\n",
    "\\begin{equation*}\n",
    "\\dot{Q}_{conveccion} + kA\\dfrac{T_{m-1}-T_m}{Δx} = 0\n",
    "\\end{equation*}\n",
    "\n",
    "O de forma más detallada:\n",
    "\n",
    "\\begin{equation*}\n",
    "hA(T_{∞}-T_m) + kA\\dfrac{T_{m-1}-T_m}{Δx} = 0~~~~~~~~~~~~~~~~~~(2)\n",
    "\\end{equation*}\n",
    "\n",
    "En donde:\n",
    "\n",
    "$h$=Coeficiente de transferencia de calor por convección (dato de entrada)\n",
    "\n",
    "$A$ = Área de transferencia de calor\n",
    "\n",
    "$T_{∞}$= Temperatura del medio para los cálculos de convección\n",
    "\n",
    "Al hacer un pequeño tratamiento algebráico a la Ecuación (2), y despejar el término $T_m$, se obtiene la Ecuación que debe ser programada en el bucle *while* de Python para el tratamiento del nodo frontera:\n",
    "\n",
    "\\begin{equation*}\n",
    "T_m=\\dfrac{\\dfrac{k}{Δx}T_{m-1}+hT_{∞}}{\\left(\\dfrac{k}{Δx}+h \\right)}~~~~~~~~~~~~~~~~~~(3)\n",
    "\\end{equation*}\n",
    "\n",
    "Para el tratamiento de los nodos interiores, se usa la misma ecuación del CASO 1: \n",
    "\\begin{equation*}\n",
    "T_m=\\dfrac{T_{m-1}+T_{m+1}}{2}\n",
    "\\end{equation*}\n",
    "\n"
   ]
  },
  {
   "cell_type": "code",
   "execution_count": 16,
   "metadata": {},
   "outputs": [],
   "source": [
    "while error>tol:\n",
    "    Told=np.copy(T)\n",
    "    T[-1]=((k/dx)*Told[n-2]+h*T_amb)/((k/dx)+h)\n",
    "    for i in range(1, n-1):\n",
    "        T[i]=0.5*(Told[i-1]+Told[i+1])\n",
    "    error=np.max(np.abs(np.array(Told-T)))\n",
    "    iter=iter+1"
   ]
  },
  {
   "cell_type": "markdown",
   "metadata": {},
   "source": [
    "MOSTRAR RESULTADOS"
   ]
  },
  {
   "cell_type": "code",
   "execution_count": 17,
   "metadata": {},
   "outputs": [
    {
     "name": "stdout",
     "output_type": "stream",
     "text": [
      "[ 0.    0.23  0.45  0.68  0.9   1.13  1.35  1.58  1.8   2.03  2.25  2.48\n",
      "  2.7   2.93  3.16  3.38  3.61  3.83  4.06  4.28  4.51  4.74  4.96  5.19\n",
      "  5.41  5.64  5.87  6.09  6.32  6.54  6.77  7.    7.22  7.45  7.68  7.9\n",
      "  8.13  8.36  8.58  8.81  9.04  9.27  9.49  9.72  9.95 10.17 10.4  10.63\n",
      " 10.86 11.09 11.31 11.54 11.77 12.   12.23 12.46 12.68 12.91 13.14 13.37\n",
      " 13.6  13.83 14.06 14.29 14.52 14.75 14.98 15.2  15.43 15.66 15.89 16.12\n",
      " 16.35 16.58 16.82 17.05 17.28 17.51 17.74 17.97 18.2  18.43 18.66 18.89\n",
      " 19.12 19.36 19.59 19.82 20.05 20.28 20.51 20.75 20.98 21.21 21.44 21.67\n",
      " 21.91 22.14 22.37 22.6 ]\n"
     ]
    }
   ],
   "source": [
    "np.set_printoptions(precision=2)\n",
    "print(T)"
   ]
  },
  {
   "cell_type": "markdown",
   "metadata": {},
   "source": [
    "GRAFICO\n",
    "\n",
    "Se agrega gráfico"
   ]
  },
  {
   "cell_type": "code",
   "execution_count": 18,
   "metadata": {},
   "outputs": [
    {
     "data": {
      "image/png": "[encoded data removed]",
      "text/plain": [
       "<Figure size 432x288 with 1 Axes>"
      ]
     },
     "metadata": {},
     "output_type": "display_data"
    }
   ],
   "source": [
    "plt.style.use(\"dark_background\")\n",
    "plt.plot(x,T)\n",
    "plt.title(\"Variación de la temperatura con la posición\")\n",
    "plt.xlabel(\"Longitud (m)\")\n",
    "plt.ylabel(\"Temperatura (°C)\")\n",
    "plt.xlim(0,L)\n",
    "plt.ylim(0,30)\n",
    "plt.grid(linestyle=\":\", linewidth=0.5)\n",
    "plt.show()"
   ]
  }
 ],
 "metadata": {
  "kernelspec": {
   "display_name": "Python 3.7.4 ('base')",
   "language": "python",
   "name": "python3"
  },
  "language_info": {
   "codemirror_mode": {
    "name": "ipython",
    "version": 3
   },
   "file_extension": ".py",
   "mimetype": "text/x-python",
   "name": "python",
   "nbconvert_exporter": "python",
   "pygments_lexer": "ipython3",
   "version": "3.7.4"
  },
  "orig_nbformat": 4,
  "vscode": {
   "interpreter": {
    "hash": "3d82a38089e50421a8eb0a1b5b0c8f4058d78f7bd7e9cfdf2f73b3ed54a71c68"
   }
  }
 },
 "nbformat": 4,
 "nbformat_minor": 2
}
